{
 "cells": [
  {
   "cell_type": "markdown",
   "metadata": {},
   "source": [
    "Unpacking a String"
   ]
  },
  {
   "cell_type": "code",
   "execution_count": 3,
   "metadata": {},
   "outputs": [
    {
     "name": "stdout",
     "output_type": "stream",
     "text": [
      "h e l l o\n",
      "h ['e', 'l', 'l', 'o']\n"
     ]
    }
   ],
   "source": [
    "s = \"hello\"\n",
    "a,b,c,d,e = s\n",
    "print(a,b,c,d,e)\n",
    "\n",
    "a, *other_letters = s\n",
    "print(a, other_letters)"
   ]
  },
  {
   "cell_type": "markdown",
   "metadata": {},
   "source": [
    "When searching for items, use a generator function involving `yield` to decouple the process of searching from the code that uses the results"
   ]
  },
  {
   "cell_type": "code",
   "execution_count": 7,
   "metadata": {},
   "outputs": [
    {
     "name": "stdout",
     "output_type": "stream",
     "text": [
      "True\n",
      "True\n",
      "True\n",
      "True\n",
      "True\n",
      "True\n"
     ]
    }
   ],
   "source": [
    "def search(letters):\n",
    "    for letter in letters.lower():\n",
    "        if letter in 'blau':\n",
    "            yield True\n",
    "\n",
    "letters = 'absiuqwbvelvsdWU'\n",
    "res = search(letters)\n",
    "\n",
    "for i in res:\n",
    "    print(i)"
   ]
  },
  {
   "cell_type": "markdown",
   "metadata": {},
   "source": [
    "finding the largest or smallest N items with heapq"
   ]
  },
  {
   "cell_type": "code",
   "execution_count": 11,
   "metadata": {},
   "outputs": [
    {
     "data": {
      "text/plain": [
       "[{'name': 'TSLA', 'price': 120}, {'name': 'SPY', 'price': 93}]"
      ]
     },
     "execution_count": 11,
     "metadata": {},
     "output_type": "execute_result"
    }
   ],
   "source": [
    "import heapq\n",
    "\n",
    "portfolio = [\n",
    "        {'name':'IBM', 'price': 90},\n",
    "        {'name':'SPY', 'price': 93},\n",
    "        {'name':'AAPL', 'price': 10},\n",
    "        {'name':'TSLA', 'price': 120},\n",
    "    ]\n",
    "\n",
    "expensive = heapq.nlargest(2, portfolio, key=lambda x: x['price'])\n",
    "expensive"
   ]
  },
  {
   "cell_type": "markdown",
   "metadata": {},
   "source": [
    "Create a named slice"
   ]
  },
  {
   "cell_type": "code",
   "execution_count": 12,
   "metadata": {},
   "outputs": [
    {
     "data": {
      "text/plain": [
       "'llo'"
      ]
     },
     "execution_count": 12,
     "metadata": {},
     "output_type": "execute_result"
    }
   ],
   "source": [
    "SLICE = slice(2,5)\n",
    "s = 'hello world'\n",
    "s[SLICE]"
   ]
  },
  {
   "cell_type": "markdown",
   "metadata": {},
   "source": [
    "Using Counter objects from collections"
   ]
  },
  {
   "cell_type": "code",
   "execution_count": 14,
   "metadata": {},
   "outputs": [
    {
     "name": "stdout",
     "output_type": "stream",
     "text": [
      "[('eyes', 8), ('the', 5), ('look', 4)]\n"
     ]
    },
    {
     "data": {
      "text/plain": [
       "Counter({'look': 4,\n",
       "         'into': 3,\n",
       "         'my': 4,\n",
       "         'eyes': 9,\n",
       "         'the': 5,\n",
       "         'not': 2,\n",
       "         'around': 2,\n",
       "         \"don't\": 1,\n",
       "         \"you're\": 1,\n",
       "         'under': 1,\n",
       "         'why': 1,\n",
       "         'are': 1,\n",
       "         'you': 1,\n",
       "         'looking': 1,\n",
       "         'in': 1})"
      ]
     },
     "execution_count": 14,
     "metadata": {},
     "output_type": "execute_result"
    }
   ],
   "source": [
    "from collections import Counter\n",
    "\n",
    "words = [\n",
    "   'look', 'into', 'my', 'eyes', 'look', 'into', 'my', 'eyes',\n",
    "   'the', 'eyes', 'the', 'eyes', 'the', 'eyes', 'not', 'around', 'the',\n",
    "   'eyes', \"don't\", 'look', 'around', 'the', 'eyes', 'look', 'into',\n",
    "   'my', 'eyes', \"you're\", 'under'\n",
    "]\n",
    "\n",
    "morewords = ['why','are','you','not','looking','in','my','eyes']\n",
    "\n",
    "# finding most common words\n",
    "a = Counter(words)\n",
    "print(a.most_common(3))\n",
    "\n",
    "# math with counters\n",
    "b = Counter(morewords)\n",
    "\n",
    "c = a + b\n",
    "c"
   ]
  },
  {
   "cell_type": "code",
   "execution_count": null,
   "metadata": {},
   "outputs": [],
   "source": []
  }
 ],
 "metadata": {
  "kernelspec": {
   "display_name": "Python 3",
   "language": "python",
   "name": "python3"
  },
  "language_info": {
   "codemirror_mode": {
    "name": "ipython",
    "version": 3
   },
   "file_extension": ".py",
   "mimetype": "text/x-python",
   "name": "python",
   "nbconvert_exporter": "python",
   "pygments_lexer": "ipython3",
   "version": "3.9.1"
  }
 },
 "nbformat": 4,
 "nbformat_minor": 4
}
